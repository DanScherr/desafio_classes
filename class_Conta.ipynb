{
 "cells": [
  {
   "cell_type": "code",
   "execution_count": 9,
   "metadata": {},
   "outputs": [],
   "source": [
    "class Banco:\n",
    "\n",
    "    def __init__(self) -> None:\n",
    "        pass\n"
   ]
  },
  {
   "cell_type": "code",
   "execution_count": 10,
   "metadata": {},
   "outputs": [],
   "source": [
    "class Conta:\n",
    "\n",
    "# TODO: Criar construtor\n",
    "\n",
    "    def __init__(self, nome:str, cpf:str, senha:str, renda:float, chave_pix:str, saldo:float) -> None:\n",
    "        '''Terá atributos do usuário como:'''\n",
    "\n",
    "        self._nome      = self.set_nome(nome)\n",
    "        self._cpf       = self.set_cpf(cpf)\n",
    "        self._renda     = self.set_renda(renda)\n",
    "        self._senha     = self.set_senha(senha)\n",
    "        self._chave_pix = self.set_chave_pix(chave_pix)\n",
    "        self._saldo     = self.set_saldo(saldo)\n",
    "\n",
    "        self.lista_cartoes_de_credito = list()\n",
    "\n",
    "\n",
    "# TODO: Geters e Seters\n",
    "\n",
    "    def get_nome(self):\n",
    "        return self._nome\n",
    "        pass\n",
    "\n",
    "    def set_nome(self, nome):\n",
    "        if type(nome) == str and len(255):\n",
    "            self._nome = nome.trim()\n",
    "        pass\n",
    "\n",
    "    def get_cpf(self):\n",
    "        return self._cpf\n",
    "        pass\n",
    "\n",
    "    def set_cpf(self, cpf):\n",
    "        self._cpf = cpf\n",
    "        pass\n",
    "    \n",
    "    def get_renda(self):\n",
    "        return self._renda\n",
    "        pass\n",
    "\n",
    "    def set_renda(self, renda):\n",
    "        self._renda = renda\n",
    "        pass\n",
    "\n",
    "\n",
    "# TODO: Métodos da classe conta\n",
    "\n",
    "    def criar_cartao_de_credito(self) -> str:\n",
    "        '''Criar objeto cartao de credito na conta, dados limite e nome do cartão de crédito, chamará metodo de análise de crédito do banco\n",
    "        para definir limite'''\n",
    "        pass\n",
    "\n",
    "    def pagar_boleto(self) -> bool:\n",
    "        '''Pagar boleto dado valor'''\n",
    "        pass\n",
    "    \n",
    "    def sacar_dinheiro(self, qtd:float) -> bool:\n",
    "        pass \n",
    "\n",
    "    def depositar_dinheiro(self, qtd:float) -> bool:\n",
    "        pass\n",
    "\n",
    "    def criar_alterar_chave_pix(self, chave_pix:str) -> bool:\n",
    "        pass\n",
    "\n",
    "    def fazer_pix(self, chave_pix_destino:str, qtd:float, banco_destino:Banco) -> bool:\n",
    "        '''Dada um objeto de conta origem, e uma chave pix destino, e quantidade da transferencia, fazer redução no saldo de uma conta e aumento de saldo na conta destino'''\n",
    "        pass\n"
   ]
  },
  {
   "cell_type": "code",
   "execution_count": 4,
   "metadata": {},
   "outputs": [],
   "source": [
    "conta_pessoal = Conta('daniel', '00000000000', 'nome', 20.50, 'daniel', 0.00)"
   ]
  },
  {
   "cell_type": "code",
   "execution_count": 7,
   "metadata": {},
   "outputs": [
    {
     "name": "stdout",
     "output_type": "stream",
     "text": [
      "00000000000\n"
     ]
    }
   ],
   "source": [
    "print(conta_pessoal._cpf)"
   ]
  },
  {
   "cell_type": "code",
   "execution_count": null,
   "metadata": {},
   "outputs": [],
   "source": []
  }
 ],
 "metadata": {
  "kernelspec": {
   "display_name": "Python 3.10.6 64-bit",
   "language": "python",
   "name": "python3"
  },
  "language_info": {
   "codemirror_mode": {
    "name": "ipython",
    "version": 3
   },
   "file_extension": ".py",
   "mimetype": "text/x-python",
   "name": "python",
   "nbconvert_exporter": "python",
   "pygments_lexer": "ipython3",
   "version": "3.10.6"
  },
  "orig_nbformat": 4,
  "vscode": {
   "interpreter": {
    "hash": "e197c96fe21dce20df65d3dd8985c76cda5a43289129750428192b4d7b17dcb9"
   }
  }
 },
 "nbformat": 4,
 "nbformat_minor": 2
}
