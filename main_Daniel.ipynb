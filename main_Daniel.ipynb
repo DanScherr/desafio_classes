{
 "cells": [
  {
   "cell_type": "code",
   "execution_count": 1,
   "metadata": {},
   "outputs": [],
   "source": [
    "class Banco:\n",
    "\n",
    "    def __init__(self) -> None:\n",
    "        pass\n",
    "    \n",
    "    def analisar_credito():\n",
    "        pass"
   ]
  },
  {
   "cell_type": "code",
   "execution_count": 6,
   "metadata": {},
   "outputs": [],
   "source": [
    "class CartaoDeCredito:\n",
    "\n",
    "    def __init__(self, nome_cartao:str, limite_total:float):\n",
    "\n",
    "        self.nome_cartao   = nome_cartao\n",
    "        \n",
    "        self.limite_cartao = limite_total\n",
    "        self.limite_atual  = limite_total\n",
    "\n",
    "    def comprar(self, valor_compra:float) -> bool:\n",
    "        '''Checar limite, se é possivel realizar a compra, reduzir limite, etc'''\n",
    "        pass\n",
    "    \n",
    "    def consultar_valor_fatura(self):\n",
    "        '''Retornar valor fatura'''\n",
    "        pass\n",
    "\n",
    "    def pagar_fatura(self, conta:Conta) -> bool:\n",
    "        '''Pagar fatura, reistituir limite'''\n",
    "        pass"
   ]
  },
  {
   "cell_type": "code",
   "execution_count": 26,
   "metadata": {},
   "outputs": [],
   "source": [
    "from class_Depena_String import Depena_String\n",
    "\n",
    "class Conta:\n",
    "\n",
    "# TODO: Criar construtor\n",
    "\n",
    "    def __init__(self, nome:str, cpf:str, senha:str, renda:float, chave_pix:str, saldo:float) -> None:\n",
    "        '''Terá atributos do usuário como:'''\n",
    "\n",
    "        self._nome      = self.set_nome(nome)\n",
    "        self._cpf       = self.set_cpf(cpf)\n",
    "        self._renda     = self.set_renda(renda)\n",
    "        self._senha     = self.set_senha(senha)\n",
    "        self._chave_pix = self.set_chave_pix(chave_pix)\n",
    "        self._saldo     = self.set_saldo(saldo)\n",
    "\n",
    "        self.lista_cartoes_de_credito = list()\n",
    "\n",
    "\n",
    "# TODO: Geters e Seters\n",
    "\n",
    "    def get_nome(self) -> str:\n",
    "        return self.nome\n",
    "        pass\n",
    "\n",
    "    def set_nome(self, nome) -> None:\n",
    "        nome = Depena_String(nome)\n",
    "        self.nome = nome.sem_espacos\n",
    "        pass\n",
    "\n",
    "    def get_cpf(self) -> str:\n",
    "        return self.cpf\n",
    "        pass\n",
    "\n",
    "    def set_cpf(self, cpf) -> None:\n",
    "        self.cpf = cpf\n",
    "        pass\n",
    "    \n",
    "    def get_renda(self) -> float:\n",
    "        return self.renda\n",
    "        pass\n",
    "\n",
    "    def set_renda(self, renda) -> None:\n",
    "        self.renda = renda\n",
    "        pass\n",
    "\n",
    "    def get_senha(self) -> str:\n",
    "        return self.senha\n",
    "        pass\n",
    "\n",
    "    def set_senha(self, senha) -> None:\n",
    "        self.senha = senha\n",
    "        pass\n",
    "\n",
    "    def get_set_chave_pix(self) -> str:\n",
    "        return self.chave_pix\n",
    "        pass\n",
    "\n",
    "    def set_chave_pix(self, chave_pix) -> None:\n",
    "        self.chave_pix = chave_pix\n",
    "        pass\n",
    "\n",
    "    def get_saldo(self) -> float:\n",
    "        return self.saldo\n",
    "        pass\n",
    "\n",
    "    def set_saldo(self, saldo) -> None:\n",
    "        self.saldo = saldo\n",
    "        pass\n",
    "\n",
    "# TODO: Métodos da classe conta\n",
    "\n",
    "    def criar_cartao_de_credito(self) -> CartaoDeCredito:\n",
    "        '''Criar objeto cartao de credito na conta, dados limite e nome do cartão de crédito, chamará metodo de análise de crédito do banco\n",
    "        para definir limite'''\n",
    "        novo_cartao_de_credito = CartaoDeCredito('exemplo1', self.get_renda()*1.5)\n",
    "        self.lista_cartoes_de_credito.append(novo_cartao_de_credito)\n",
    "        pass\n",
    "\n",
    "    def pagar_boleto(self) -> bool:\n",
    "        '''Pagar boleto dado valor'''\n",
    "        pass\n",
    "    \n",
    "    def sacar_dinheiro(self, qtd:float) -> bool:\n",
    "        # Se saldo corrente é menor que a qtd desejada de sacar, retorna false\n",
    "        if self.get_saldo() < qtd:\n",
    "            return False\n",
    "        # Caso contrário subtrai o valor da conta e retorna true\n",
    "        else:\n",
    "            self.set_saldo(self.get_saldo() - qtd)\n",
    "            return True\n",
    "        pass \n",
    "\n",
    "    def depositar_dinheiro(self, qtd:float) -> bool:\n",
    "        pass\n",
    "\n",
    "    def criar_alterar_chave_pix(self, chave_pix:str) -> bool:\n",
    "        pass\n",
    "\n",
    "    def fazer_pix(self, chave_pix_destino:str, qtd:float, banco_destino:Banco) -> bool:\n",
    "        '''Dada um objeto de conta origem, e uma chave pix destino, e quantidade da transferencia, fazer redução no saldo de uma conta e aumento de saldo na conta destino'''\n",
    "        pass\n",
    "\n"
   ]
  },
  {
   "cell_type": "code",
   "execution_count": 29,
   "metadata": {},
   "outputs": [
    {
     "name": "stdout",
     "output_type": "stream",
     "text": [
      "<__main__.Conta object at 0x000001C0E71EEA40>\n"
     ]
    }
   ],
   "source": [
    "conta_pessoal = Conta('Danie scheicher siajd    dsi', '00000000000', 'nome', 10000.01, 'daniel', 100000.00)\n",
    "print(conta_pessoal)\n"
   ]
  },
  {
   "cell_type": "code",
   "execution_count": 33,
   "metadata": {},
   "outputs": [
    {
     "name": "stdout",
     "output_type": "stream",
     "text": [
      "O nome formatado da conta é: Danie Scheicher Siajd Dsi\n",
      "- O Saldo da conta é: R$100000.0\n",
      "- O Saldo da conta é: R$10000.01\n",
      "- O limite do primeiro cartão de crédito é: R$[<__main__.CartaoDeCredito object at 0x000001C0E71EFCA0>, <__main__.CartaoDeCredito object at 0x000001C0E6D596C0>, <__main__.CartaoDeCredito object at 0x000001C0E6D59270>, <__main__.CartaoDeCredito object at 0x000001C0E6D5BBB0>, <__main__.CartaoDeCredito object at 0x000001C0E6A497B0>, <__main__.CartaoDeCredito object at 0x000001C0E6A48A60>]\n"
     ]
    }
   ],
   "source": [
    "print(f\"O nome formatado da conta é: {conta_pessoal.get_nome()}\")\n",
    "\n",
    "print(f\"- O Saldo da conta é: R${conta_pessoal.get_saldo()}\")\n",
    "\n",
    "print(f\"- O Saldo da conta é: R${conta_pessoal.get_renda()}\")\n",
    "\n",
    "conta_pessoal.criar_cartao_de_credito()\n",
    "\n",
    "print(f\"- O limite do primeiro cartão de crédito é: R${conta_pessoal.lista_cartoes_de_credito}\")\n"
   ]
  },
  {
   "cell_type": "code",
   "execution_count": 18,
   "metadata": {},
   "outputs": [
    {
     "name": "stdout",
     "output_type": "stream",
     "text": [
      "None\n"
     ]
    }
   ],
   "source": [
    "print(conta_pessoal.sacar_dinheiro(100))"
   ]
  },
  {
   "cell_type": "code",
   "execution_count": null,
   "metadata": {},
   "outputs": [],
   "source": []
  }
 ],
 "metadata": {
  "kernelspec": {
   "display_name": "Python 3.10.6 64-bit",
   "language": "python",
   "name": "python3"
  },
  "language_info": {
   "codemirror_mode": {
    "name": "ipython",
    "version": 3
   },
   "file_extension": ".py",
   "mimetype": "text/x-python",
   "name": "python",
   "nbconvert_exporter": "python",
   "pygments_lexer": "ipython3",
   "version": "3.10.6"
  },
  "orig_nbformat": 4,
  "vscode": {
   "interpreter": {
    "hash": "e197c96fe21dce20df65d3dd8985c76cda5a43289129750428192b4d7b17dcb9"
   }
  }
 },
 "nbformat": 4,
 "nbformat_minor": 2
}
