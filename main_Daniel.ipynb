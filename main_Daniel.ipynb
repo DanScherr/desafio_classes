{
 "cells": [
  {
   "cell_type": "markdown",
   "metadata": {},
   "source": [
    "# <ul><li> Main test code para Daniel </li></ul>"
   ]
  },
  {
   "cell_type": "markdown",
   "metadata": {},
   "source": [
    "## 1. Fazendo os devidos imports"
   ]
  },
  {
   "cell_type": "code",
   "execution_count": 1,
   "metadata": {},
   "outputs": [],
   "source": [
    "from classteste import Banco\n",
    "from class_Conta import CartaoDeCredito, Conta\n",
    "from classteste import Banco"
   ]
  },
  {
   "cell_type": "markdown",
   "metadata": {},
   "source": [
    "## 2. Declarando e Instanciando um objeto do tipo Conta e printando o ponteiro"
   ]
  },
  {
   "cell_type": "code",
   "execution_count": 2,
   "metadata": {},
   "outputs": [
    {
     "name": "stdout",
     "output_type": "stream",
     "text": [
      "<class_Conta.Conta object at 0x00000163FC059600>\n"
     ]
    }
   ],
   "source": [
    "try:\n",
    "    conta_pessoal = Conta(10, '154.594.647-03', 'nome', 10000.01, 'daniel', 100000.00)\n",
    "except:\n",
    "    conta_pessoal = Conta('  daniel Schei ! @ # $ % ¨ & * () 10 cher', '154.594.647-03', 'nome', 10000.01, 'daniel', 100000.00)\n",
    "\n",
    "print(conta_pessoal)\n"
   ]
  },
  {
   "cell_type": "markdown",
   "metadata": {},
   "source": [
    "## 3. Imprimindo alguns atributos e métodos da Classe Conta e CartaoDeCredito"
   ]
  },
  {
   "cell_type": "code",
   "execution_count": 3,
   "metadata": {},
   "outputs": [
    {
     "name": "stdout",
     "output_type": "stream",
     "text": [
      "O nome formatado da conta é: Daniel Schei Cher\n",
      "- O Saldo da conta é: R$100000.0\n",
      "- O Saldo da conta é: R$10000.01\n",
      "- O cpf é: 154.594.647-03\n",
      "- O limite do primeiro cartão de crédito é: R$15000.015\n"
     ]
    }
   ],
   "source": [
    "print(f\"O nome formatado da conta é: {conta_pessoal.get_nome()}\")\n",
    "\n",
    "print(f\"- O Saldo da conta é: R${conta_pessoal.get_saldo()}\")\n",
    "\n",
    "print(f\"- O Saldo da conta é: R${conta_pessoal.get_renda()}\")\n",
    "\n",
    "print(f\"- O cpf é: {conta_pessoal.get_cpf()}\")\n",
    "\n",
    "conta_pessoal.criar_cartao_de_credito()\n",
    "\n",
    "print(f\"- O limite do primeiro cartão de crédito é: R${conta_pessoal.lista_cartoes_de_credito[0].limite_atual}\")\n"
   ]
  },
  {
   "cell_type": "code",
   "execution_count": 5,
   "metadata": {},
   "outputs": [
    {
     "name": "stdout",
     "output_type": "stream",
     "text": [
      "True\n"
     ]
    }
   ],
   "source": [
    "print(conta_pessoal.sacar_dinheiro(100))"
   ]
  },
  {
   "cell_type": "markdown",
   "metadata": {},
   "source": [
    "* ### Testando metodo para tratar nome string"
   ]
  },
  {
   "cell_type": "code",
   "execution_count": 34,
   "metadata": {},
   "outputs": [
    {
     "name": "stdout",
     "output_type": "stream",
     "text": [
      " -> True\n",
      " -> True\n",
      "daniel -> True\n",
      "Schei -> True\n",
      "# -> False\n",
      " -> True\n",
      "9 -> False\n",
      "cher -> True\n",
      "  daniel Schei #  9 cher\n"
     ]
    }
   ],
   "source": [
    "from re import search, compile\n",
    "\n",
    "# s_no_space = [value.lower().capitalize() for value in string.split(' ') if ( (value != '') and (bool(match(name_special_chars, value)) == True) )]\n",
    "\n",
    "string = '  daniel Schei #  9 cher'\n",
    "\n",
    "name_special_chars = ('^[a-zA-Z]*$')\n",
    "if type(string) == str:\n",
    "    for value in string.split(' '):\n",
    "        print(f'{value} -> {bool((search(name_special_chars ,value)))}')\n",
    "\n",
    "\n",
    "print(string)"
   ]
  },
  {
   "cell_type": "markdown",
   "metadata": {},
   "source": [
    "* ### Testando metodo para tratar nome string"
   ]
  },
  {
   "cell_type": "code",
   "execution_count": 15,
   "metadata": {},
   "outputs": [
    {
     "name": "stdout",
     "output_type": "stream",
     "text": [
      "['154', '594', '647']\n",
      "['03']\n",
      "154.594.647-03\n"
     ]
    }
   ],
   "source": [
    "from re import search\n",
    "\n",
    "cpf_number = '154.594.647-03'\n",
    "cpf_special_chars = '^[0-9]*$'\n",
    "\n",
    "cpf_list_firstTwo = [value\n",
    "                        for value in cpf_number[0:11].split('.' or '-') \n",
    "                        if ( (value != '') )]\n",
    "\n",
    "print(cpf_list_firstTwo)\n",
    "\n",
    "cpf_list_secondTwo = [value\n",
    "                        for value in cpf_number.split('-') \n",
    "                        if ( (value != '')) and \n",
    "                                    (bool((search(cpf_special_chars ,value))))]\n",
    "print(cpf_list_secondTwo)\n",
    "\n",
    "cpf_string = '.'.join(cpf_list_firstTwo) + '-' + str(cpf_list_secondTwo.pop())\n",
    "# cpf_string += '-' + str(cpf_list_secondTwo.pop())\n",
    "print(cpf_string)"
   ]
  },
  {
   "cell_type": "code",
   "execution_count": null,
   "metadata": {},
   "outputs": [],
   "source": []
  }
 ],
 "metadata": {
  "kernelspec": {
   "display_name": "Python 3.10.6 64-bit",
   "language": "python",
   "name": "python3"
  },
  "language_info": {
   "codemirror_mode": {
    "name": "ipython",
    "version": 3
   },
   "file_extension": ".py",
   "mimetype": "text/x-python",
   "name": "python",
   "nbconvert_exporter": "python",
   "pygments_lexer": "ipython3",
   "version": "3.10.6"
  },
  "orig_nbformat": 4,
  "vscode": {
   "interpreter": {
    "hash": "d1984b84cf1de53d4fa5187321781398903a67332db4b7786851a3a58189fecc"
   }
  }
 },
 "nbformat": 4,
 "nbformat_minor": 2
}
