{
 "cells": [
  {
   "cell_type": "markdown",
   "metadata": {},
   "source": [
    "# <ul><li> Main test code para Daniel </li></ul>"
   ]
  },
  {
   "cell_type": "markdown",
   "metadata": {},
   "source": [
    "## 1. Fazendo os devidos imports"
   ]
  },
  {
   "cell_type": "code",
   "execution_count": 1,
   "metadata": {},
   "outputs": [
    {
     "name": "stdout",
     "output_type": "stream",
     "text": [
      "None\n"
     ]
    },
    {
     "ename": "ImportError",
     "evalue": "cannot import name 'CartaoDeCredito' from partially initialized module 'Class_CartaoDeCredito' (most likely due to a circular import) (c:\\Users\\017924631\\Desktop\\desafio_classes\\Class_CartaoDeCredito.py)",
     "output_type": "error",
     "traceback": [
      "\u001b[1;31m---------------------------------------------------------------------------\u001b[0m",
      "\u001b[1;31mImportError\u001b[0m                               Traceback (most recent call last)",
      "\u001b[1;32mc:\\Users\\017924631\\Desktop\\desafio_classes\\main_Daniel.ipynb Cell 3\u001b[0m in \u001b[0;36m<cell line: 2>\u001b[1;34m()\u001b[0m\n\u001b[0;32m      <a href='vscode-notebook-cell:/c%3A/Users/017924631/Desktop/desafio_classes/main_Daniel.ipynb#W2sZmlsZQ%3D%3D?line=0'>1</a>\u001b[0m \u001b[39mfrom\u001b[39;00m \u001b[39mclassteste\u001b[39;00m \u001b[39mimport\u001b[39;00m Banco\n\u001b[1;32m----> <a href='vscode-notebook-cell:/c%3A/Users/017924631/Desktop/desafio_classes/main_Daniel.ipynb#W2sZmlsZQ%3D%3D?line=1'>2</a>\u001b[0m \u001b[39mfrom\u001b[39;00m \u001b[39mClass_CartaoDeCredito\u001b[39;00m \u001b[39mimport\u001b[39;00m CartaoDeCredito, Conta\n",
      "File \u001b[1;32mc:\\Users\\017924631\\Desktop\\desafio_classes\\Class_CartaoDeCredito.py:1\u001b[0m, in \u001b[0;36m<module>\u001b[1;34m\u001b[0m\n\u001b[1;32m----> 1\u001b[0m \u001b[39mfrom\u001b[39;00m \u001b[39mclass_Conta\u001b[39;00m \u001b[39mimport\u001b[39;00m Conta\n\u001b[0;32m      4\u001b[0m \u001b[39mclass\u001b[39;00m \u001b[39mCartaoDeCredito\u001b[39;00m:\n\u001b[0;32m      6\u001b[0m     \u001b[39mdef\u001b[39;00m \u001b[39m__init__\u001b[39m(\u001b[39mself\u001b[39m, nome_cartao: \u001b[39mstr\u001b[39m, limite_total: \u001b[39mfloat\u001b[39m):\n\u001b[0;32m      7\u001b[0m \n\u001b[0;32m      8\u001b[0m         \u001b[39m# vamos importar as informações do nome e limite criadas no class_Conta e puxar os valores\u001b[39;00m\n\u001b[0;32m      9\u001b[0m         \u001b[39m#   do cartão do cidadão \u001b[39;00m\n",
      "File \u001b[1;32mc:\\Users\\017924631\\Desktop\\desafio_classes\\class_Conta.py:2\u001b[0m, in \u001b[0;36m<module>\u001b[1;34m\u001b[0m\n\u001b[0;32m      1\u001b[0m \u001b[39m# ------------ IMPORTING -------------\u001b[39;00m\n\u001b[1;32m----> 2\u001b[0m \u001b[39mfrom\u001b[39;00m \u001b[39mClass_CartaoDeCredito\u001b[39;00m \u001b[39mimport\u001b[39;00m CartaoDeCredito\n\u001b[0;32m      3\u001b[0m \u001b[39mfrom\u001b[39;00m \u001b[39mclassteste\u001b[39;00m \u001b[39mimport\u001b[39;00m Banco\n\u001b[0;32m      4\u001b[0m \u001b[39m# Imports of suporting classes\u001b[39;00m\n",
      "\u001b[1;31mImportError\u001b[0m: cannot import name 'CartaoDeCredito' from partially initialized module 'Class_CartaoDeCredito' (most likely due to a circular import) (c:\\Users\\017924631\\Desktop\\desafio_classes\\Class_CartaoDeCredito.py)"
     ]
    }
   ],
   "source": [
    "from classteste import Banco\n",
    "from Class_CartaoDeCredito import CartaoDeCredito, Conta"
   ]
  },
  {
   "cell_type": "markdown",
   "metadata": {},
   "source": [
    "## 2. Declarando e Instanciando um objeto do tipo Conta e printando o ponteiro"
   ]
  },
  {
   "cell_type": "code",
   "execution_count": 2,
   "metadata": {},
   "outputs": [
    {
     "name": "stdout",
     "output_type": "stream",
     "text": [
      "<class_Conta.Conta object at 0x00000237A37CF9A0>\n"
     ]
    }
   ],
   "source": [
    "try:\n",
    "    conta_pessoal = Conta(10, '154.594.647-03', 'nome', 10000.01, 'daniel', 100000.00)\n",
    "except:\n",
    "    conta_pessoal = Conta('  daniel Schei ! @ # $ % ¨ & * () 10 cher', '00000000000', 'nome', 10000.01, 'daniel', 100000.00)\n",
    "\n",
    "print(conta_pessoal)\n"
   ]
  },
  {
   "cell_type": "markdown",
   "metadata": {},
   "source": [
    "## 3. Imprimindo alguns atributos e métodos da Classe Conta e CartaoDeCredito"
   ]
  },
  {
   "cell_type": "code",
   "execution_count": 3,
   "metadata": {},
   "outputs": [
    {
     "name": "stdout",
     "output_type": "stream",
     "text": [
      "O nome formatado da conta é: Daniel Schei Cher\n",
      "- O Saldo da conta é: R$100000.0\n",
      "- O Saldo da conta é: R$10000.01\n",
      "- O limite do primeiro cartão de crédito é: R$15000.015\n"
     ]
    }
   ],
   "source": [
    "print(f\"O nome formatado da conta é: {conta_pessoal.get_nome()}\")\n",
    "\n",
    "print(f\"- O Saldo da conta é: R${conta_pessoal.get_saldo()}\")\n",
    "\n",
    "print(f\"- O Saldo da conta é: R${conta_pessoal.get_renda()}\")\n",
    "\n",
    "conta_pessoal.criar_cartao_de_credito()\n",
    "\n",
    "print(f\"- O limite do primeiro cartão de crédito é: R${conta_pessoal.lista_cartoes_de_credito[0].limite_atual}\")\n"
   ]
  },
  {
   "cell_type": "code",
   "execution_count": 7,
   "metadata": {},
   "outputs": [
    {
     "name": "stdout",
     "output_type": "stream",
     "text": [
      "True\n"
     ]
    }
   ],
   "source": [
    "print(conta_pessoal.sacar_dinheiro(100))"
   ]
  },
  {
   "cell_type": "code",
   "execution_count": 34,
   "metadata": {},
   "outputs": [
    {
     "name": "stdout",
     "output_type": "stream",
     "text": [
      " -> True\n",
      " -> True\n",
      "daniel -> True\n",
      "Schei -> True\n",
      "# -> False\n",
      " -> True\n",
      "9 -> False\n",
      "cher -> True\n",
      "  daniel Schei #  9 cher\n"
     ]
    }
   ],
   "source": [
    "from re import search, compile\n",
    "\n",
    "# s_no_space = [value.lower().capitalize() for value in string.split(' ') if ( (value != '') and (bool(match(name_special_chars, value)) == True) )]\n",
    "\n",
    "string = '  daniel Schei #  9 cher'\n",
    "\n",
    "name_special_chars = ('^[a-zA-Z]*$')\n",
    "if type(string) == str:\n",
    "    for value in string.split(' '):\n",
    "        print(f'{value} -> {bool((search(name_special_chars ,value)))}')\n",
    "\n",
    "\n",
    "print(string)"
   ]
  },
  {
   "cell_type": "code",
   "execution_count": 8,
   "metadata": {},
   "outputs": [
    {
     "name": "stdout",
     "output_type": "stream",
     "text": [
      "['154', '594']\n",
      "['03']\n",
      "03\n"
     ]
    }
   ],
   "source": [
    "from re import search\n",
    "\n",
    "cpf_number = '154.594.647-03'\n",
    "cpf_special_chars = '^[0-9]*$'\n",
    "\n",
    "cpf_list_firstTwo = [value.lower().capitalize()\n",
    "                        for value in cpf_number.split('.') \n",
    "                        if ( (value != '') and \n",
    "                        (bool((search(cpf_special_chars ,value)))) )]\n",
    "\n",
    "cpf_list_secondTwo = [value.lower().capitalize()\n",
    "                        for value in cpf_number.split('-') \n",
    "                        if ( (value != '') and \n",
    "                        (bool((search(cpf_special_chars ,value)))) )]\n",
    "\n",
    "\n",
    "print(cpf_list_firstTwo)\n",
    "print(cpf_list_secondTwo)\n",
    "\n",
    "cpf_string = '.'.join(cpf_list_firstTwo)\n",
    "cpf_string = '-'.join(cpf_list_secondTwo)\n",
    "\n",
    "print(cpf_string)"
   ]
  },
  {
   "cell_type": "code",
   "execution_count": null,
   "metadata": {},
   "outputs": [],
   "source": []
  }
 ],
 "metadata": {
  "kernelspec": {
   "display_name": "Python 3.10.6 64-bit",
   "language": "python",
   "name": "python3"
  },
  "language_info": {
   "codemirror_mode": {
    "name": "ipython",
    "version": 3
   },
   "file_extension": ".py",
   "mimetype": "text/x-python",
   "name": "python",
   "nbconvert_exporter": "python",
   "pygments_lexer": "ipython3",
   "version": "3.10.6"
  },
  "orig_nbformat": 4,
  "vscode": {
   "interpreter": {
    "hash": "d1984b84cf1de53d4fa5187321781398903a67332db4b7786851a3a58189fecc"
   }
  }
 },
 "nbformat": 4,
 "nbformat_minor": 2
}
