{
 "cells": [
  {
   "cell_type": "markdown",
   "metadata": {},
   "source": [
    "## Dando vida ao código XD"
   ]
  },
  {
   "cell_type": "markdown",
   "metadata": {},
   "source": [
    "## 1. Realizando os imports das Classes criada"
   ]
  },
  {
   "cell_type": "code",
   "execution_count": 22,
   "metadata": {},
   "outputs": [],
   "source": [
    "from Class_CartaoDeCredito import CartaoDeCredito\n",
    "from class_Conta import Conta\n",
    "from classteste import Banco\n"
   ]
  },
  {
   "cell_type": "markdown",
   "metadata": {},
   "source": [
    "## 2. Como há dependências entre as Classes, a primeira a ser criada deve ser a Banco:"
   ]
  },
  {
   "cell_type": "code",
   "execution_count": 23,
   "metadata": {},
   "outputs": [
    {
     "name": "stdout",
     "output_type": "stream",
     "text": [
      "<classteste.Banco object at 0x0000026B3F7A5C30>\n"
     ]
    }
   ],
   "source": [
    "# Instanciando um objeto do tipo Banco\n",
    "banco = Banco('Banco')\n",
    "\n",
    "print(banco)"
   ]
  },
  {
   "cell_type": "markdown",
   "metadata": {},
   "source": [
    "### I. Imprimindo sucesso dos atributos de banco"
   ]
  },
  {
   "cell_type": "code",
   "execution_count": 24,
   "metadata": {},
   "outputs": [
    {
     "name": "stdout",
     "output_type": "stream",
     "text": [
      "Banco\n",
      "[]\n"
     ]
    }
   ],
   "source": [
    "print(banco.nome)\n",
    "print(banco.lista_clientes)"
   ]
  },
  {
   "cell_type": "markdown",
   "metadata": {},
   "source": [
    "### 2.1. Testando métodos de banco\n",
    "#### I. Método: cadastrar_cliente / criar conta\n"
   ]
  },
  {
   "cell_type": "code",
   "execution_count": 25,
   "metadata": {},
   "outputs": [
    {
     "name": "stdout",
     "output_type": "stream",
     "text": [
      "[<class_Conta.Conta object at 0x0000026B3F7A5CC0>, <class_Conta.Conta object at 0x0000026B3FE5B700>, <class_Conta.Conta object at 0x0000026B3F7A5B70>, <class_Conta.Conta object at 0x0000026B3F7A6440>]\n"
     ]
    }
   ],
   "source": [
    "banco.cadastrar_cliente('Fulano', '154.594.647-03', '1326', 10000, 'Fulaninho', 40000)\n",
    "banco.cadastrar_cliente('Cicrano', '154.594.647-07', '1306', 20000, 'Fulaninho', 30000)\n",
    "banco.cadastrar_cliente('Beltrano', '154.594.647-09', '1026', 30000, 'Fulaninho', 20000)\n",
    "banco.cadastrar_cliente('Tirano', '154.594.647-10', '1356', 40000, 'Fulaninho', 10000)\n",
    "print(banco.lista_clientes)\n",
    "\n"
   ]
  },
  {
   "cell_type": "markdown",
   "metadata": {},
   "source": [
    "##### a. Imprimindo clientes e atributos"
   ]
  },
  {
   "cell_type": "code",
   "execution_count": 26,
   "metadata": {},
   "outputs": [
    {
     "name": "stdout",
     "output_type": "stream",
     "text": [
      "1) Nome: Fulano, Cpf: 154.594.647-03, senha: 1326, renda: 10000, chave_pix: Fulaninho, saldo: 40000\n",
      "2) Nome: Cicrano, Cpf: 154.594.647-07, senha: 1306, renda: 20000, chave_pix: Fulaninho, saldo: 30000\n",
      "3) Nome: Beltrano, Cpf: 154.594.647-09, senha: 1026, renda: 30000, chave_pix: Fulaninho, saldo: 20000\n",
      "4) Nome: Tirano, Cpf: 154.594.647-10, senha: 1356, renda: 40000, chave_pix: Fulaninho, saldo: 10000\n"
     ]
    }
   ],
   "source": [
    "for index, item_da_lista in enumerate(banco.lista_clientes):\n",
    "    print(f'{index+1}) Nome: {item_da_lista.nome}, Cpf: {item_da_lista.cpf}, senha: {item_da_lista.senha}, renda: {item_da_lista.renda}, chave_pix: {item_da_lista.chave_pix}, saldo: {item_da_lista.saldo}')"
   ]
  },
  {
   "cell_type": "markdown",
   "metadata": {},
   "source": [
    "#### II. Método: acessar_conta"
   ]
  },
  {
   "cell_type": "code",
   "execution_count": 27,
   "metadata": {},
   "outputs": [
    {
     "name": "stdout",
     "output_type": "stream",
     "text": [
      "<class_Conta.Conta object at 0x0000026B3F7A5CC0>\n",
      "Fulano\n"
     ]
    }
   ],
   "source": [
    "# printando acesso a conta\n",
    "print(banco.acessar_conta('154.594.647-03', '1326'))\n",
    "# printando o nome da conta acessada\n",
    "print(banco.acessar_conta('154.594.647-03', '1326').nome)"
   ]
  },
  {
   "cell_type": "code",
   "execution_count": 28,
   "metadata": {},
   "outputs": [],
   "source": [
    "# # atribuindo uma variavel auxiliar para a conta procurada e achada\n",
    "# conta_desejada = banco.acessar_conta('154.594.647-03', '1306')\n",
    "# # printando o nome da conta acessada\n",
    "# print(conta_desejada.nome)"
   ]
  },
  {
   "cell_type": "markdown",
   "metadata": {},
   "source": [
    "\n",
    "#### III. Método: analisar_credito"
   ]
  },
  {
   "cell_type": "code",
   "execution_count": 29,
   "metadata": {},
   "outputs": [
    {
     "name": "stdout",
     "output_type": "stream",
     "text": [
      "3000.0\n"
     ]
    }
   ],
   "source": [
    "# Chamando método do objeto banco analisar_credito\n",
    "print(banco.analisar_credito('154.594.647-03'))"
   ]
  },
  {
   "cell_type": "markdown",
   "metadata": {},
   "source": [
    "***\n",
    "## 2. A segunda Classe a ser testada será Conta:\n",
    "> * A conta já foi criada com o método cadastrar_cliente da classe Banco em 2.1.I.<br>\n",
    "> * Seus atributos foram impressos em 2.1.I.a.\n",
    "\n",
    "### 2.1. Testando métodos de um objeto da classe Conta\n",
    "> Primeiro, deve-se acessar uma conta específica\n"
   ]
  },
  {
   "cell_type": "code",
   "execution_count": 30,
   "metadata": {},
   "outputs": [],
   "source": [
    "# Iremos atribuir uma conta específica a uma variavel conta\n",
    "# e iremos fazer isso de forma aleatória\n",
    "from random import randint\n",
    "index = randint(0,3)\n",
    "\n",
    "conta = banco.lista_clientes[index]"
   ]
  },
  {
   "cell_type": "markdown",
   "metadata": {},
   "source": [
    "#### I. Método: Criar cartão de crédito"
   ]
  },
  {
   "cell_type": "code",
   "execution_count": 31,
   "metadata": {},
   "outputs": [
    {
     "name": "stdout",
     "output_type": "stream",
     "text": [
      "lista: 9000.0; cpf: 154.594.647-09\n"
     ]
    }
   ],
   "source": [
    "# Criando um objeto cartão de crédito da classe CartaoDeCredito\n",
    "nome = 'exemplo'\n",
    "conta.criar_cartao_de_credito(banco)\n"
   ]
  },
  {
   "cell_type": "markdown",
   "metadata": {},
   "source": [
    "#### a. Imprimindo atributos do objeto criado CartaoDeCredito"
   ]
  },
  {
   "cell_type": "code",
   "execution_count": 32,
   "metadata": {},
   "outputs": [
    {
     "name": "stdout",
     "output_type": "stream",
     "text": [
      "Beltrano1\n",
      "Beltrano1, 9000.0, 0.0\n"
     ]
    }
   ],
   "source": [
    "print(conta.lista_cartoes_de_credito[0].nome_cartao)\n",
    "for cartao in conta.lista_cartoes_de_credito:\n",
    "    print(f'{cartao.nome_cartao}, {cartao.limite_atual}, {cartao.valor_fatura}')"
   ]
  },
  {
   "cell_type": "markdown",
   "metadata": {},
   "source": [
    "#### II. Método: pagar_boleto"
   ]
  },
  {
   "cell_type": "markdown",
   "metadata": {},
   "source": [
    "> Mostrando o antes do atributo saldo de conta"
   ]
  },
  {
   "cell_type": "code",
   "execution_count": 33,
   "metadata": {},
   "outputs": [
    {
     "name": "stdout",
     "output_type": "stream",
     "text": [
      "20000\n"
     ]
    }
   ],
   "source": [
    "print(conta.get_saldo())"
   ]
  },
  {
   "cell_type": "markdown",
   "metadata": {},
   "source": [
    "> Pagando boleto"
   ]
  },
  {
   "cell_type": "code",
   "execution_count": 34,
   "metadata": {},
   "outputs": [
    {
     "data": {
      "text/plain": [
       "True"
      ]
     },
     "execution_count": 34,
     "metadata": {},
     "output_type": "execute_result"
    }
   ],
   "source": [
    "conta.pagar_boleto(500)"
   ]
  },
  {
   "cell_type": "markdown",
   "metadata": {},
   "source": [
    "> Mostrando o depois do atributo saldo de conta"
   ]
  },
  {
   "cell_type": "code",
   "execution_count": 35,
   "metadata": {},
   "outputs": [
    {
     "name": "stdout",
     "output_type": "stream",
     "text": [
      "19500\n"
     ]
    }
   ],
   "source": [
    "print(conta.get_saldo())"
   ]
  },
  {
   "cell_type": "markdown",
   "metadata": {},
   "source": [
    "#### III. Método: sacar_dinheiro"
   ]
  },
  {
   "cell_type": "markdown",
   "metadata": {},
   "source": [
    "> Mostrando o antes do atributo saldo de conta"
   ]
  },
  {
   "cell_type": "code",
   "execution_count": 36,
   "metadata": {},
   "outputs": [
    {
     "name": "stdout",
     "output_type": "stream",
     "text": [
      "19500\n"
     ]
    }
   ],
   "source": [
    "print(conta.get_saldo())"
   ]
  },
  {
   "cell_type": "markdown",
   "metadata": {},
   "source": [
    "> Sacando dinheiro"
   ]
  },
  {
   "cell_type": "code",
   "execution_count": 37,
   "metadata": {},
   "outputs": [
    {
     "data": {
      "text/plain": [
       "True"
      ]
     },
     "execution_count": 37,
     "metadata": {},
     "output_type": "execute_result"
    }
   ],
   "source": [
    "conta.sacar_dinheiro(200)"
   ]
  },
  {
   "cell_type": "markdown",
   "metadata": {},
   "source": [
    "> Mostrando o antes do atributo saldo de conta"
   ]
  },
  {
   "cell_type": "code",
   "execution_count": 38,
   "metadata": {},
   "outputs": [
    {
     "name": "stdout",
     "output_type": "stream",
     "text": [
      "19300\n"
     ]
    }
   ],
   "source": [
    "print(conta.get_saldo())"
   ]
  },
  {
   "cell_type": "markdown",
   "metadata": {},
   "source": [
    "#### IV. Método: depositar_dinheiro"
   ]
  },
  {
   "cell_type": "markdown",
   "metadata": {},
   "source": [
    "> Mostrando o depois do atributo saldo de conta"
   ]
  },
  {
   "cell_type": "code",
   "execution_count": 39,
   "metadata": {},
   "outputs": [
    {
     "name": "stdout",
     "output_type": "stream",
     "text": [
      "19300\n"
     ]
    }
   ],
   "source": [
    "print(conta.get_saldo())"
   ]
  },
  {
   "cell_type": "markdown",
   "metadata": {},
   "source": [
    "> Depositando dinheiro"
   ]
  },
  {
   "cell_type": "code",
   "execution_count": 40,
   "metadata": {},
   "outputs": [
    {
     "data": {
      "text/plain": [
       "True"
      ]
     },
     "execution_count": 40,
     "metadata": {},
     "output_type": "execute_result"
    }
   ],
   "source": [
    "conta.depositar_dinheiro(20)"
   ]
  },
  {
   "cell_type": "markdown",
   "metadata": {},
   "source": [
    "> Mostrando o depois do atributo saldo de conta"
   ]
  },
  {
   "cell_type": "code",
   "execution_count": 41,
   "metadata": {},
   "outputs": [
    {
     "name": "stdout",
     "output_type": "stream",
     "text": [
      "19320\n"
     ]
    }
   ],
   "source": [
    "print(conta.get_saldo())"
   ]
  },
  {
   "cell_type": "markdown",
   "metadata": {},
   "source": [
    "#### V. Método: criar_alterar_chave_pix"
   ]
  },
  {
   "cell_type": "code",
   "execution_count": 42,
   "metadata": {},
   "outputs": [
    {
     "name": "stdout",
     "output_type": "stream",
     "text": [
      "Fulaninho\n",
      "jabulani\n"
     ]
    }
   ],
   "source": [
    "print(conta.get_chave_pix())\n",
    "\n",
    "conta.criar_alterar_chave_pix('jabulani')\n",
    "\n",
    "print(conta.get_chave_pix())"
   ]
  },
  {
   "cell_type": "markdown",
   "metadata": {},
   "source": [
    "***\n",
    "## 3. A terceira Classe a ser testada será CartaoDeCredito:\n",
    "> * Objetos do tipo CartaoDeCredito já foram criado no método da conta em 2.1.I.<br>\n",
    "> * Seus atributos foram impressos em 2.1.I.a.\n",
    "\n",
    "### 3.1. Testando métodos de um objeto da classe Conta\n",
    "> Primeiro, deve-se acessar um cartão específico\n"
   ]
  },
  {
   "cell_type": "markdown",
   "metadata": {},
   "source": []
  },
  {
   "cell_type": "markdown",
   "metadata": {},
   "source": [
    "#### I. Método: comprar"
   ]
  },
  {
   "cell_type": "code",
   "execution_count": null,
   "metadata": {},
   "outputs": [],
   "source": []
  },
  {
   "cell_type": "markdown",
   "metadata": {},
   "source": [
    "#### II. Método: consultar_valor_fatura"
   ]
  },
  {
   "cell_type": "code",
   "execution_count": null,
   "metadata": {},
   "outputs": [],
   "source": []
  },
  {
   "cell_type": "markdown",
   "metadata": {},
   "source": [
    "#### III. Método: checar_limite"
   ]
  },
  {
   "cell_type": "code",
   "execution_count": null,
   "metadata": {},
   "outputs": [],
   "source": []
  },
  {
   "cell_type": "markdown",
   "metadata": {},
   "source": [
    "#### IV. Método: pagar_fatura"
   ]
  },
  {
   "cell_type": "code",
   "execution_count": null,
   "metadata": {},
   "outputs": [],
   "source": []
  }
 ],
 "metadata": {
  "kernelspec": {
   "display_name": "Python 3.10.6 64-bit",
   "language": "python",
   "name": "python3"
  },
  "language_info": {
   "codemirror_mode": {
    "name": "ipython",
    "version": 3
   },
   "file_extension": ".py",
   "mimetype": "text/x-python",
   "name": "python",
   "nbconvert_exporter": "python",
   "pygments_lexer": "ipython3",
   "version": "3.10.6"
  },
  "orig_nbformat": 4,
  "vscode": {
   "interpreter": {
    "hash": "e197c96fe21dce20df65d3dd8985c76cda5a43289129750428192b4d7b17dcb9"
   }
  }
 },
 "nbformat": 4,
 "nbformat_minor": 2
}
