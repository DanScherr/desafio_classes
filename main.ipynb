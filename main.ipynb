{
 "cells": [
  {
   "cell_type": "markdown",
   "metadata": {},
   "source": [
    "## Dando vida ao código XD"
   ]
  },
  {
   "cell_type": "markdown",
   "metadata": {},
   "source": [
    "## 1. Realizando os imports das Classes criada"
   ]
  },
  {
   "cell_type": "code",
   "execution_count": 1,
   "metadata": {},
   "outputs": [],
   "source": [
    "from Class_CartaoDeCredito import CartaoDeCredito\n",
    "from class_Conta import Conta\n",
    "from classteste import Banco\n"
   ]
  },
  {
   "cell_type": "markdown",
   "metadata": {},
   "source": [
    "## 2. Como há dependências entre as Classes, a primeira a ser criada deve ser a Banco:"
   ]
  },
  {
   "cell_type": "code",
   "execution_count": 2,
   "metadata": {},
   "outputs": [
    {
     "name": "stdout",
     "output_type": "stream",
     "text": [
      "<classteste.Banco object at 0x00000200F227BFD0>\n"
     ]
    }
   ],
   "source": [
    "# Instanciando um objeto do tipo Banco\n",
    "banco = Banco('Banco')\n",
    "\n",
    "print(banco)"
   ]
  },
  {
   "cell_type": "markdown",
   "metadata": {},
   "source": [
    "## 3. Imprimindo sucesso dos atributos de banco"
   ]
  },
  {
   "cell_type": "code",
   "execution_count": 3,
   "metadata": {},
   "outputs": [
    {
     "name": "stdout",
     "output_type": "stream",
     "text": [
      "Banco\n",
      "[]\n"
     ]
    }
   ],
   "source": [
    "print(banco.nome)\n",
    "print(banco.lista_clientes)"
   ]
  },
  {
   "cell_type": "markdown",
   "metadata": {},
   "source": [
    "## 4. Testando métodos de banco\n",
    "#### I. cadastrar_cliente\n"
   ]
  },
  {
   "cell_type": "code",
   "execution_count": 4,
   "metadata": {},
   "outputs": [
    {
     "name": "stdout",
     "output_type": "stream",
     "text": [
      "[<class_Conta.Conta object at 0x00000200F227BE50>, <class_Conta.Conta object at 0x00000200F1F0DAB0>, <class_Conta.Conta object at 0x00000200F227BA90>, <class_Conta.Conta object at 0x00000200F227BBE0>]\n"
     ]
    }
   ],
   "source": [
    "banco.cadastrar_cliente('Fulano', '154.594.647-03', '1326', 10000, 'Fulaninho', 40000)\n",
    "banco.cadastrar_cliente('Cicrano', '154.594.647-07', '1306', 20000, 'Fulaninho', 30000)\n",
    "banco.cadastrar_cliente('Beltrano', '154.594.647-09', '1026', 30000, 'Fulaninho', 20000)\n",
    "banco.cadastrar_cliente('Tirano', '154.594.647-10', '1356', 40000, 'Fulaninho', 10000)\n",
    "print(banco.lista_clientes)\n",
    "\n"
   ]
  },
  {
   "cell_type": "markdown",
   "metadata": {},
   "source": [
    "##### i. Imprimindo clientes e atributos"
   ]
  },
  {
   "cell_type": "code",
   "execution_count": 10,
   "metadata": {},
   "outputs": [
    {
     "name": "stdout",
     "output_type": "stream",
     "text": [
      "1) Nome: Fulano, Cpf: 154.594.647-03, senha: 1326, renda: 10000, chave_pix: Fulaninho, saldo: 40000\n",
      "2) Nome: Cicrano, Cpf: 154.594.647-07, senha: 1306, renda: 20000, chave_pix: Fulaninho, saldo: 30000\n",
      "3) Nome: Beltrano, Cpf: 154.594.647-09, senha: 1026, renda: 30000, chave_pix: Fulaninho, saldo: 20000\n",
      "4) Nome: Tirano, Cpf: 154.594.647-10, senha: 1356, renda: 40000, chave_pix: Fulaninho, saldo: 10000\n"
     ]
    }
   ],
   "source": [
    "for index, item_da_lista in enumerate(banco.lista_clientes):\n",
    "    print(f'{index+1}) Nome: {item_da_lista.nome}, Cpf: {item_da_lista.cpf}, senha: {item_da_lista.senha}, renda: {item_da_lista.renda}, chave_pix: {item_da_lista.chave_pix}, saldo: {item_da_lista.saldo}')"
   ]
  },
  {
   "cell_type": "markdown",
   "metadata": {},
   "source": [
    "#### II. acessar_conta"
   ]
  },
  {
   "cell_type": "code",
   "execution_count": null,
   "metadata": {},
   "outputs": [],
   "source": [
    "# print(banco.acessar_conta())\n"
   ]
  },
  {
   "cell_type": "markdown",
   "metadata": {},
   "source": [
    "\n",
    "#### III. analisar_credito"
   ]
  },
  {
   "cell_type": "code",
   "execution_count": null,
   "metadata": {},
   "outputs": [],
   "source": [
    "# print(banco.analisar_credito())"
   ]
  },
  {
   "cell_type": "code",
   "execution_count": null,
   "metadata": {},
   "outputs": [],
   "source": [
    "unpacking\n",
    "enumerate"
   ]
  }
 ],
 "metadata": {
  "kernelspec": {
   "display_name": "Python 3.10.6 64-bit",
   "language": "python",
   "name": "python3"
  },
  "language_info": {
   "codemirror_mode": {
    "name": "ipython",
    "version": 3
   },
   "file_extension": ".py",
   "mimetype": "text/x-python",
   "name": "python",
   "nbconvert_exporter": "python",
   "pygments_lexer": "ipython3",
   "version": "3.10.6"
  },
  "orig_nbformat": 4,
  "vscode": {
   "interpreter": {
    "hash": "e197c96fe21dce20df65d3dd8985c76cda5a43289129750428192b4d7b17dcb9"
   }
  }
 },
 "nbformat": 4,
 "nbformat_minor": 2
}
