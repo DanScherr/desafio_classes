{
 "cells": [
  {
   "cell_type": "code",
   "execution_count": null,
   "metadata": {},
   "outputs": [],
   "source": [
    "import Class_CartaoDeCredito\n",
    "import class_Conta\n",
    "import classteste\n",
    "\n"
   ]
  }
 ],
 "metadata": {
  "kernelspec": {
   "display_name": "Python 3.10.7 64-bit",
   "language": "python",
   "name": "python3"
  },
  "language_info": {
   "name": "python",
   "version": "3.10.7"
  },
  "orig_nbformat": 4,
  "vscode": {
   "interpreter": {
    "hash": "13631f68b70c354e90be132ab81c5000ce8c172dd4776c8b9a7c17c7647c60a4"
   }
  }
 },
 "nbformat": 4,
 "nbformat_minor": 2
}
