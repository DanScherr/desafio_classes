{
 "cells": [
  {
   "cell_type": "markdown",
   "metadata": {},
   "source": [
    "## Dando vida ao código XD"
   ]
  },
  {
   "cell_type": "markdown",
   "metadata": {},
   "source": [
    "## 1. Realizando os imports das Classes criada"
   ]
  },
  {
   "cell_type": "code",
   "execution_count": 1,
   "metadata": {},
   "outputs": [],
   "source": [
    "from Class_CartaoDeCredito import CartaoDeCredito\n",
    "from class_Conta import Conta\n",
    "from classteste import Banco\n"
   ]
  },
  {
   "cell_type": "markdown",
   "metadata": {},
   "source": [
    "## 2. Como há dependências entre as Classes, a primeira a ser criada deve ser a Banco:"
   ]
  },
  {
   "cell_type": "code",
   "execution_count": 2,
   "metadata": {},
   "outputs": [
    {
     "name": "stdout",
     "output_type": "stream",
     "text": [
      "<classteste.Banco object at 0x000002461E97F820>\n"
     ]
    }
   ],
   "source": [
    "# Instanciando um objeto do tipo Banco\n",
    "banco = Banco('Banco')\n",
    "\n",
    "print(banco)"
   ]
  },
  {
   "cell_type": "markdown",
   "metadata": {},
   "source": [
    "### I. Imprimindo sucesso dos atributos de banco"
   ]
  },
  {
   "cell_type": "code",
   "execution_count": 3,
   "metadata": {},
   "outputs": [
    {
     "name": "stdout",
     "output_type": "stream",
     "text": [
      "Banco\n",
      "[]\n"
     ]
    }
   ],
   "source": [
    "print(banco.nome)\n",
    "print(banco.lista_clientes)"
   ]
  },
  {
   "cell_type": "markdown",
   "metadata": {},
   "source": [
    "### 2.1. Testando métodos de banco\n",
    "#### I. Método: cadastrar_cliente / criar conta\n"
   ]
  },
  {
   "cell_type": "code",
   "execution_count": 4,
   "metadata": {},
   "outputs": [
    {
     "name": "stdout",
     "output_type": "stream",
     "text": [
      "[<class_Conta.Conta object at 0x000002461E97FB80>, <class_Conta.Conta object at 0x000002461E97FC10>, <class_Conta.Conta object at 0x000002461E97F850>, <class_Conta.Conta object at 0x000002461E97FEB0>]\n"
     ]
    }
   ],
   "source": [
    "banco.cadastrar_cliente('Fulano', '154.594.647-03', '1326', 10000, 'Fulaninho', 40000)\n",
    "banco.cadastrar_cliente('Cicrano', '154.594.647-07', '1306', 20000, 'Fulaninho', 30000)\n",
    "banco.cadastrar_cliente('Beltrano', '154.594.647-09', '1026', 30000, 'Fulaninho', 20000)\n",
    "banco.cadastrar_cliente('Tirano', '154.594.647-10', '1356', 40000, 'Fulaninho', 10000)\n",
    "print(banco.lista_clientes)\n",
    "\n"
   ]
  },
  {
   "cell_type": "markdown",
   "metadata": {},
   "source": [
    "##### a. Imprimindo clientes e atributos"
   ]
  },
  {
   "cell_type": "code",
   "execution_count": 5,
   "metadata": {},
   "outputs": [
    {
     "name": "stdout",
     "output_type": "stream",
     "text": [
      "1) Nome: Fulano, Cpf: 154.594.647-03, senha: 1326, renda: 10000, chave_pix: Fulaninho, saldo: 40000\n",
      "2) Nome: Cicrano, Cpf: 154.594.647-07, senha: 1306, renda: 20000, chave_pix: Fulaninho, saldo: 30000\n",
      "3) Nome: Beltrano, Cpf: 154.594.647-09, senha: 1026, renda: 30000, chave_pix: Fulaninho, saldo: 20000\n",
      "4) Nome: Tirano, Cpf: 154.594.647-10, senha: 1356, renda: 40000, chave_pix: Fulaninho, saldo: 10000\n"
     ]
    }
   ],
   "source": [
    "for index, item_da_lista in enumerate(banco.lista_clientes):\n",
    "    print(f'{index+1}) Nome: {item_da_lista.nome}, Cpf: {item_da_lista.cpf}, senha: {item_da_lista.senha}, renda: {item_da_lista.renda}, chave_pix: {item_da_lista.chave_pix}, saldo: {item_da_lista.saldo}')"
   ]
  },
  {
   "cell_type": "markdown",
   "metadata": {},
   "source": [
    "#### II. Método: acessar_conta"
   ]
  },
  {
   "cell_type": "code",
   "execution_count": 6,
   "metadata": {},
   "outputs": [
    {
     "name": "stdout",
     "output_type": "stream",
     "text": [
      "<class_Conta.Conta object at 0x000002461E97FB80>\n",
      "Fulano\n"
     ]
    }
   ],
   "source": [
    "# printando acesso a conta\n",
    "print(banco.acessar_conta('154.594.647-03', '1326'))\n",
    "# printando o nome da conta acessada\n",
    "print(banco.acessar_conta('154.594.647-03', '1326').nome)"
   ]
  },
  {
   "cell_type": "code",
   "execution_count": 7,
   "metadata": {},
   "outputs": [
    {
     "ename": "AttributeError",
     "evalue": "'NoneType' object has no attribute 'nome'",
     "output_type": "error",
     "traceback": [
      "\u001b[1;31m---------------------------------------------------------------------------\u001b[0m",
      "\u001b[1;31mAttributeError\u001b[0m                            Traceback (most recent call last)",
      "\u001b[1;32mc:\\Users\\017924631\\Desktop\\desafio_classes\\main.ipynb Cell 14\u001b[0m in \u001b[0;36m<cell line: 4>\u001b[1;34m()\u001b[0m\n\u001b[0;32m      <a href='vscode-notebook-cell:/c%3A/Users/017924631/Desktop/desafio_classes/main.ipynb#X16sZmlsZQ%3D%3D?line=1'>2</a>\u001b[0m conta_desejada \u001b[39m=\u001b[39m banco\u001b[39m.\u001b[39macessar_conta(\u001b[39m'\u001b[39m\u001b[39m154.594.647-03\u001b[39m\u001b[39m'\u001b[39m, \u001b[39m'\u001b[39m\u001b[39m1306\u001b[39m\u001b[39m'\u001b[39m)\n\u001b[0;32m      <a href='vscode-notebook-cell:/c%3A/Users/017924631/Desktop/desafio_classes/main.ipynb#X16sZmlsZQ%3D%3D?line=2'>3</a>\u001b[0m \u001b[39m# printando o nome da conta acessada\u001b[39;00m\n\u001b[1;32m----> <a href='vscode-notebook-cell:/c%3A/Users/017924631/Desktop/desafio_classes/main.ipynb#X16sZmlsZQ%3D%3D?line=3'>4</a>\u001b[0m \u001b[39mprint\u001b[39m(conta_desejada\u001b[39m.\u001b[39;49mnome)\n",
      "\u001b[1;31mAttributeError\u001b[0m: 'NoneType' object has no attribute 'nome'"
     ]
    }
   ],
   "source": [
    "# atribuindo uma variavel auxiliar para a conta procurada e achada\n",
    "conta_desejada = banco.acessar_conta('154.594.647-03', '1306')\n",
    "# printando o nome da conta acessada\n",
    "print(conta_desejada.nome)"
   ]
  },
  {
   "cell_type": "markdown",
   "metadata": {},
   "source": [
    "\n",
    "#### III. Método: analisar_credito"
   ]
  },
  {
   "cell_type": "code",
   "execution_count": 8,
   "metadata": {},
   "outputs": [
    {
     "name": "stdout",
     "output_type": "stream",
     "text": [
      "3000.0\n"
     ]
    }
   ],
   "source": [
    "# Chamando método do objeto banco analisar_credito\n",
    "print(banco.analisar_credito('154.594.647-03'))"
   ]
  },
  {
   "cell_type": "markdown",
   "metadata": {},
   "source": [
    "***\n",
    "## 2. A segunda Classe a ser testada será Conta:\n",
    "> * A conta já foi criada com o método cadastrar_cliente da classe Banco em 2.1.I.<br>\n",
    "> * Seus atributos foram impressos em 2.1.I.a.\n",
    "\n",
    "### 2.1. Testando métodos de um objeto da classe Conta\n",
    "> Primeiro, deve-se acessar uma conta específica\n"
   ]
  },
  {
   "cell_type": "code",
   "execution_count": 9,
   "metadata": {},
   "outputs": [],
   "source": [
    "# Iremos atribuir uma conta específica a uma variavel conta\n",
    "# e iremos fazer isso de forma aleatória\n",
    "from random import randint\n",
    "index = randint(0,3)\n",
    "\n",
    "conta = banco.lista_clientes[index]"
   ]
  },
  {
   "cell_type": "markdown",
   "metadata": {},
   "source": [
    "#### I. Método: cadastrar_cliente / criar conta"
   ]
  },
  {
   "cell_type": "code",
   "execution_count": 10,
   "metadata": {},
   "outputs": [],
   "source": [
    "# Criando um objeto cartão de crédito da classe CartaoDeCredito\n",
    "conta.criar_cartao_de_credito(banco)\n"
   ]
  },
  {
   "cell_type": "code",
   "execution_count": null,
   "metadata": {},
   "outputs": [],
   "source": []
  }
 ],
 "metadata": {
  "kernelspec": {
   "display_name": "Python 3.10.6 64-bit",
   "language": "python",
   "name": "python3"
  },
  "language_info": {
   "codemirror_mode": {
    "name": "ipython",
    "version": 3
   },
   "file_extension": ".py",
   "mimetype": "text/x-python",
   "name": "python",
   "nbconvert_exporter": "python",
   "pygments_lexer": "ipython3",
   "version": "3.10.6"
  },
  "orig_nbformat": 4,
  "vscode": {
   "interpreter": {
    "hash": "e197c96fe21dce20df65d3dd8985c76cda5a43289129750428192b4d7b17dcb9"
   }
  }
 },
 "nbformat": 4,
 "nbformat_minor": 2
}
